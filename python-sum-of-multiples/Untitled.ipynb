{
 "cells": [
  {
   "cell_type": "code",
   "execution_count": 31,
   "metadata": {},
   "outputs": [
    {
     "name": "stdout",
     "output_type": "stream",
     "text": [
      "23\n"
     ]
    }
   ],
   "source": [
    "import numpy as np\n",
    "x = np.arange(1, 10)\n",
    "# find  multiple of 3 or 5\n",
    "n= x[(x % 3 == 0) | (x % 5 == 0)]\n",
    "# print(n[:10])\n",
    "# print sum the numbers\n",
    "print(n.sum())"
   ]
  },
  {
   "cell_type": "code",
   "execution_count": 16,
   "metadata": {},
   "outputs": [
    {
     "name": "stdout",
     "output_type": "stream",
     "text": [
      "78\n"
     ]
    }
   ],
   "source": [
    "def sum_of_multiples(n):\n",
    "    sum = 0\n",
    "    for i in range(n):\n",
    "        if i % 3 == 0:\n",
    "            sum += i\n",
    "        elif i % 5 == 0:\n",
    "            sum += i\n",
    "        else:\n",
    "            continue\n",
    "    return sum\n",
    "print(sum_of_multiples(20))"
   ]
  },
  {
   "cell_type": "code",
   "execution_count": 19,
   "metadata": {},
   "outputs": [
    {
     "name": "stdout",
     "output_type": "stream",
     "text": [
      "Sum of multiples of  3  up to  15  =  0.0\n"
     ]
    }
   ],
   "source": [
    "def calculate_sum(a, N): \n",
    "  \n",
    "    # Number of multiples \n",
    "    m = N % a \n",
    "  \n",
    "    # sum of first m natural numbers \n",
    "    sum = m * (m + 1) / 2\n",
    "  \n",
    "    # sum of multiples \n",
    "    ans = a * sum\n",
    "  \n",
    "    print(\"Sum of multiples of \", a, \n",
    "          \" up to \", N, \" = \", ans) \n",
    "\n",
    "calculate_sum(3, 15)"
   ]
  },
  {
   "cell_type": "code",
   "execution_count": 23,
   "metadata": {},
   "outputs": [
    {
     "ename": "TypeError",
     "evalue": "sum_of_multiples() takes 1 positional argument but 2 were given",
     "output_type": "error",
     "traceback": [
      "\u001b[1;31m---------------------------------------------------------------------------\u001b[0m",
      "\u001b[1;31mTypeError\u001b[0m                                 Traceback (most recent call last)",
      "\u001b[1;32m<ipython-input-23-2f47ffb62f49>\u001b[0m in \u001b[0;36m<module>\u001b[1;34m\u001b[0m\n\u001b[0;32m      9\u001b[0m \u001b[1;33m\u001b[0m\u001b[0m\n\u001b[0;32m     10\u001b[0m \u001b[1;33m\u001b[0m\u001b[0m\n\u001b[1;32m---> 11\u001b[1;33m \u001b[0mprint\u001b[0m\u001b[1;33m(\u001b[0m\u001b[0msum_of_multiples\u001b[0m\u001b[1;33m(\u001b[0m\u001b[1;33m(\u001b[0m\u001b[1;36m3\u001b[0m\u001b[1;33m,\u001b[0m \u001b[1;36m5\u001b[0m\u001b[1;33m)\u001b[0m\u001b[1;33m,\u001b[0m \u001b[1;36m10\u001b[0m\u001b[1;33m)\u001b[0m\u001b[1;33m)\u001b[0m\u001b[1;33m\u001b[0m\u001b[1;33m\u001b[0m\u001b[0m\n\u001b[0m",
      "\u001b[1;31mTypeError\u001b[0m: sum_of_multiples() takes 1 positional argument but 2 were given"
     ]
    }
   ],
   "source": [
    "def sum_of_two_multiples(nums, maxN):\n",
    "    \"takes tuple returns multiples under maxN (max number - 1)\"\n",
    "    n1, n2 = nums = nums[:2]\n",
    "    maxN -= 1\n",
    "    def k(maxN, kx):\n",
    "        n = int(maxN / kx)\n",
    "        return int(kx * (0.5 * n * (n+1)))\n",
    "    return sum([k(maxN, n) for n in nums]) - k(maxN, n1*n2)\n",
    "\n",
    "\n",
    "print(sum_of_multiples((3, 5), 10))"
   ]
  },
  {
   "cell_type": "code",
   "execution_count": 34,
   "metadata": {},
   "outputs": [
    {
     "name": "stdout",
     "output_type": "stream",
     "text": [
      "234168\n"
     ]
    }
   ],
   "source": [
    "def sum_of_sequence(start=1, end=1000): \n",
    "    return int((start + end) * (end - start + 1) / 2)\n",
    "\n",
    "def sum_of_sequence_divisible_by(x, start=1, end=1000): \n",
    "    # y is smallest multiply of x \n",
    "    # if the start number of the sequence less than x \n",
    "    # then the smallest multiply of x in the sequence is x \n",
    "    y = x \n",
    "    if start > x: \n",
    "        # if start number of the sequence greater than x \n",
    "        # find the nearest multiply of x \n",
    "        for i in range(start, end): \n",
    "            if i % x == 0: \n",
    "                y = i \n",
    "                break \n",
    "             \n",
    "    return x * sum_of_sequence(y / x, int(end / x)) \n",
    "  \n",
    "total = sum_of_sequence_divisible_by(3) + sum_of_sequence_divisible_by(5) \n",
    "total = total - sum_of_sequence_divisible_by(15) \n",
    "print(total)"
   ]
  },
  {
   "cell_type": "code",
   "execution_count": 45,
   "metadata": {},
   "outputs": [
    {
     "ename": "TypeError",
     "evalue": "'list' object cannot be interpreted as an integer",
     "output_type": "error",
     "traceback": [
      "\u001b[1;31m---------------------------------------------------------------------------\u001b[0m",
      "\u001b[1;31mTypeError\u001b[0m                                 Traceback (most recent call last)",
      "\u001b[1;32m<ipython-input-45-49134d2d5a1f>\u001b[0m in \u001b[0;36m<module>\u001b[1;34m\u001b[0m\n\u001b[0;32m     10\u001b[0m     \u001b[1;32mreturn\u001b[0m \u001b[0mmSum\u001b[0m\u001b[1;33m\u001b[0m\u001b[1;33m\u001b[0m\u001b[0m\n\u001b[0;32m     11\u001b[0m \u001b[1;33m\u001b[0m\u001b[0m\n\u001b[1;32m---> 12\u001b[1;33m \u001b[0mproblem1\u001b[0m \u001b[1;33m=\u001b[0m \u001b[0mMultiplesSum\u001b[0m\u001b[1;33m(\u001b[0m\u001b[1;36m16\u001b[0m\u001b[1;33m,\u001b[0m \u001b[1;33m[\u001b[0m\u001b[1;36m3\u001b[0m\u001b[1;33m,\u001b[0m \u001b[1;36m5\u001b[0m\u001b[1;33m]\u001b[0m\u001b[1;33m)\u001b[0m\u001b[1;33m\u001b[0m\u001b[1;33m\u001b[0m\u001b[0m\n\u001b[0m\u001b[0;32m     13\u001b[0m \u001b[0mprint\u001b[0m\u001b[1;33m(\u001b[0m\u001b[0mproblem1\u001b[0m\u001b[1;33m)\u001b[0m\u001b[1;33m\u001b[0m\u001b[1;33m\u001b[0m\u001b[0m\n",
      "\u001b[1;32m<ipython-input-45-49134d2d5a1f>\u001b[0m in \u001b[0;36mMultiplesSum\u001b[1;34m(multiple, end, start)\u001b[0m\n\u001b[0;32m      3\u001b[0m     \u001b[1;32mif\u001b[0m \u001b[0mstart\u001b[0m \u001b[1;33m==\u001b[0m \u001b[1;36m0\u001b[0m\u001b[1;33m:\u001b[0m\u001b[1;33m\u001b[0m\u001b[1;33m\u001b[0m\u001b[0m\n\u001b[0;32m      4\u001b[0m         \u001b[1;32mraise\u001b[0m \u001b[0mZeroDivisionError\u001b[0m\u001b[1;33m(\u001b[0m\u001b[1;34m'Cannot start with the number 0'\u001b[0m\u001b[1;33m)\u001b[0m\u001b[1;33m\u001b[0m\u001b[1;33m\u001b[0m\u001b[0m\n\u001b[1;32m----> 5\u001b[1;33m     \u001b[1;32mfor\u001b[0m \u001b[0mi\u001b[0m \u001b[1;32min\u001b[0m \u001b[0mrange\u001b[0m\u001b[1;33m(\u001b[0m\u001b[0mstart\u001b[0m\u001b[1;33m,\u001b[0m \u001b[0mend\u001b[0m\u001b[1;33m)\u001b[0m\u001b[1;33m:\u001b[0m\u001b[1;33m\u001b[0m\u001b[1;33m\u001b[0m\u001b[0m\n\u001b[0m\u001b[0;32m      6\u001b[0m         \u001b[1;32mfor\u001b[0m \u001b[0mnum\u001b[0m \u001b[1;32min\u001b[0m \u001b[0mmultiple\u001b[0m\u001b[1;33m:\u001b[0m\u001b[1;33m\u001b[0m\u001b[1;33m\u001b[0m\u001b[0m\n\u001b[0;32m      7\u001b[0m             \u001b[1;32mif\u001b[0m \u001b[0mi\u001b[0m \u001b[1;33m%\u001b[0m \u001b[0mnum\u001b[0m \u001b[1;33m==\u001b[0m \u001b[1;36m0\u001b[0m\u001b[1;33m:\u001b[0m\u001b[1;33m\u001b[0m\u001b[1;33m\u001b[0m\u001b[0m\n",
      "\u001b[1;31mTypeError\u001b[0m: 'list' object cannot be interpreted as an integer"
     ]
    }
   ],
   "source": [
    "def MultiplesSum(multiple, end, start=1):\n",
    "    mSum = 0\n",
    "    if start == 0:\n",
    "        raise ZeroDivisionError('Cannot start with the number 0')\n",
    "    for i in range(start, end):\n",
    "        for num in multiple:\n",
    "            if i % num == 0:\n",
    "                mSum += i\n",
    "                break\n",
    "    return mSum\n",
    "\n",
    "problem1 = MultiplesSum(16, [3, 5])\n",
    "print(problem1)"
   ]
  },
  {
   "cell_type": "code",
   "execution_count": 57,
   "metadata": {},
   "outputs": [
    {
     "name": "stdout",
     "output_type": "stream",
     "text": [
      "18\n"
     ]
    }
   ],
   "source": [
    "def MultiplesSum(multiple, end, start=1):\n",
    "    mSum = 0\n",
    "    naturals = range(start, end)\n",
    "    offset = -start \n",
    "    if start == 0:\n",
    "        raise ZeroDivisionError('Cannot start with the number 0')\n",
    "    for num in multiple:\n",
    "        for i in naturals:\n",
    "            if i % num == 0 and naturals[i+offset] != 0:\n",
    "                # print mSum,\"+\", i,\"=\",i+mSum\n",
    "                mSum += i\n",
    "#                 naturals[i+offset] = 0\n",
    "            i += 1\n",
    "        return mSum\n",
    "\n",
    "problem1 = MultiplesSum([3,5], 10)\n",
    "print(problem1)"
   ]
  },
  {
   "cell_type": "code",
   "execution_count": 78,
   "metadata": {},
   "outputs": [
    {
     "name": "stdout",
     "output_type": "stream",
     "text": [
      "2633\n",
      "51\n",
      "42\n",
      "5343\n",
      "2223370\n"
     ]
    }
   ],
   "source": [
    "def sum_of_multiples(number_upto: int, multiple_number: list) -> int:\n",
    "    total = 0\n",
    "    for i in range(0, number_upto):\n",
    "        for number in multiple_number:\n",
    "            if i % number == 0:\n",
    "                total += i\n",
    "    return total\n",
    "print(sum_of_multiples(100, [3, 5]))\n",
    "print(sum_of_multiples(20, [7, 13, 17]))\n",
    "print(sum_of_multiples(15, [4, 6]))\n",
    "print(sum_of_multiples(150, [5, 6, 8]))\n",
    "print(sum_of_multiples(10000, [43, 47]))"
   ]
  },
  {
   "cell_type": "code",
   "execution_count": null,
   "metadata": {},
   "outputs": [],
   "source": []
  }
 ],
 "metadata": {
  "kernelspec": {
   "display_name": "Python 3",
   "language": "python",
   "name": "python3"
  },
  "language_info": {
   "codemirror_mode": {
    "name": "ipython",
    "version": 3
   },
   "file_extension": ".py",
   "mimetype": "text/x-python",
   "name": "python",
   "nbconvert_exporter": "python",
   "pygments_lexer": "ipython3",
   "version": "3.8.3"
  }
 },
 "nbformat": 4,
 "nbformat_minor": 4
}
